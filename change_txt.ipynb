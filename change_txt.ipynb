{
 "cells": [
  {
   "cell_type": "code",
   "execution_count": 4,
   "metadata": {},
   "outputs": [
    {
     "name": "stdout",
     "output_type": "stream",
     "text": [
      "JSON annotations converted to YOLO format .txt files with automatic image dimensions.\n"
     ]
    }
   ],
   "source": [
    "import os\n",
    "import json\n",
    "from PIL import Image\n",
    "\n",
    "# Define the directories for JSON annotation files, images, and the output directory for .txt files\n",
    "json_directory = r'G:\\projects\\13_09\\val\\labels'\n",
    "image_directory = r'G:\\projects\\13_09\\val\\images'\n",
    "txt_output_directory = r'G:\\projects\\13_09\\final_train'\n",
    "\n",
    "# Loop through all JSON files in the directory\n",
    "for json_filename in os.listdir(json_directory):\n",
    "    if json_filename.endswith('.json'):\n",
    "        json_filepath = os.path.join(json_directory, json_filename)\n",
    "        \n",
    "        # Read the content of the JSON file\n",
    "        with open(json_filepath, 'r') as json_file:\n",
    "            data = json.load(json_file)\n",
    "        \n",
    "        # Extract the image_id from the JSON file and use it to find the corresponding image file\n",
    "        image_id = data['image_id']  # assuming `image_id` is part of the JSON structure\n",
    "        \n",
    "        # Construct the image filename and find its dimensions\n",
    "        image_filename = f\"{image_id}.jpg\"  # assuming the images are in .jpg format\n",
    "        image_filepath = os.path.join(image_directory, image_filename)\n",
    "        \n",
    "        # Open the image and get its dimensions\n",
    "        with Image.open(image_filepath) as img:\n",
    "            image_width, image_height = img.size\n",
    "        \n",
    "        # Prepare the output .txt file path\n",
    "        txt_filename = os.path.splitext(json_filename)[0] + '.txt'\n",
    "        txt_filepath = os.path.join(txt_output_directory, txt_filename)\n",
    "        \n",
    "        # Open the output .txt file for writing annotations\n",
    "        with open(txt_filepath, 'w') as txt_file:\n",
    "            for annotation in data['annotations']:\n",
    "                # Extract the bounding box (bbox) from the annotation\n",
    "                bbox = annotation['bbox']  # Format is [x_min, y_min, width, height]\n",
    "                x_min, y_min, box_width, box_height = bbox\n",
    "                \n",
    "                # Calculate the YOLO format bounding box\n",
    "                center_x = (x_min + box_width / 2) / image_width\n",
    "                center_y = (y_min + box_height / 2) / image_height\n",
    "                box_width /= image_width\n",
    "                box_height /= image_height\n",
    "                \n",
    "                # Set the class to 0 (as per your request)\n",
    "                class_id = 0\n",
    "                \n",
    "                # Write the annotation in YOLO format\n",
    "                txt_file.write(f\"{class_id} {center_x} {center_y} {box_width} {box_height}\\n\")\n",
    "\n",
    "print(\"JSON annotations converted to YOLO format .txt files with automatic image dimensions.\")\n"
   ]
  },
  {
   "cell_type": "code",
   "execution_count": null,
   "metadata": {},
   "outputs": [],
   "source": []
  }
 ],
 "metadata": {
  "kernelspec": {
   "display_name": "person",
   "language": "python",
   "name": "python3"
  },
  "language_info": {
   "codemirror_mode": {
    "name": "ipython",
    "version": 3
   },
   "file_extension": ".py",
   "mimetype": "text/x-python",
   "name": "python",
   "nbconvert_exporter": "python",
   "pygments_lexer": "ipython3",
   "version": "3.12.4"
  }
 },
 "nbformat": 4,
 "nbformat_minor": 2
}
