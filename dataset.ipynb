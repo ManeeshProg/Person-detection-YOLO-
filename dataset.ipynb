{
 "cells": [
  {
   "cell_type": "code",
   "execution_count": 1,
   "metadata": {},
   "outputs": [
    {
     "name": "stderr",
     "output_type": "stream",
     "text": [
      "Processing files: 100%|██████████| 64115/64115 [02:52<00:00, 371.63file/s]"
     ]
    },
    {
     "name": "stdout",
     "output_type": "stream",
     "text": [
      "Class values updated from 1 to 0 in all files.\n"
     ]
    },
    {
     "name": "stderr",
     "output_type": "stream",
     "text": [
      "\n"
     ]
    }
   ],
   "source": [
    "import os\n",
    "from tqdm import tqdm\n",
    "\n",
    "# Define the directory containing the YOLO annotation .txt files\n",
    "directory = r'G:\\projects\\13_09\\final_train\\txt'\n",
    "\n",
    "# Get the list of all .txt files in the directory\n",
    "txt_files = [filename for filename in os.listdir(directory) if filename.endswith('.txt')]\n",
    "\n",
    "# Loop through all .txt files with a progress bar\n",
    "for filename in tqdm(txt_files, desc=\"Processing files\", unit=\"file\"):\n",
    "    filepath = os.path.join(directory, filename)\n",
    "    \n",
    "    # Read the content of the file\n",
    "    with open(filepath, 'r') as file:\n",
    "        lines = file.readlines()\n",
    "    \n",
    "    # Modify the class (first number) from 1 to 0\n",
    "    modified_lines = []\n",
    "    for line in lines:\n",
    "        parts = line.strip().split()\n",
    "        if parts[0] == '1':\n",
    "            parts[0] = '0'\n",
    "        modified_lines.append(' '.join(parts))\n",
    "    \n",
    "    # Write the modified content back to the file\n",
    "    with open(filepath, 'w') as file:\n",
    "        file.write('\\n'.join(modified_lines) + '\\n')\n",
    "\n",
    "print(\"Class values updated from 1 to 0 in all files.\")\n"
   ]
  },
  {
   "cell_type": "code",
   "execution_count": null,
   "metadata": {},
   "outputs": [],
   "source": []
  }
 ],
 "metadata": {
  "kernelspec": {
   "display_name": "person",
   "language": "python",
   "name": "python3"
  },
  "language_info": {
   "codemirror_mode": {
    "name": "ipython",
    "version": 3
   },
   "file_extension": ".py",
   "mimetype": "text/x-python",
   "name": "python",
   "nbconvert_exporter": "python",
   "pygments_lexer": "ipython3",
   "version": "3.12.4"
  }
 },
 "nbformat": 4,
 "nbformat_minor": 2
}
